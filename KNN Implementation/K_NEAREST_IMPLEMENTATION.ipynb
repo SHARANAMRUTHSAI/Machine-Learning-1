{
 "cells": [
  {
   "cell_type": "markdown",
   "metadata": {},
   "source": [
    "# IMPLEMENTING K_NEAREST_NEIGHBOUR "
   ]
  },
  {
   "cell_type": "markdown",
   "metadata": {},
   "source": [
    "### In the given data set we have to classify into which cluster an instance is going to fall\n"
   ]
  },
  {
   "cell_type": "code",
   "execution_count": 1,
   "metadata": {
    "collapsed": true
   },
   "outputs": [],
   "source": [
    "#Importing required predifined methods\n",
    "import pandas as pd\n",
    "import numpy as np\n",
    "from collections import Counter\n",
    "from math import sqrt\n",
    "import random\n",
    "import warnings\n",
    "import operator\n",
    "\n"
   ]
  },
  {
   "cell_type": "code",
   "execution_count": 2,
   "metadata": {
    "scrolled": true
   },
   "outputs": [
    {
     "data": {
      "text/html": [
       "<div>\n",
       "<style>\n",
       "    .dataframe thead tr:only-child th {\n",
       "        text-align: right;\n",
       "    }\n",
       "\n",
       "    .dataframe thead th {\n",
       "        text-align: left;\n",
       "    }\n",
       "\n",
       "    .dataframe tbody tr th {\n",
       "        vertical-align: top;\n",
       "    }\n",
       "</style>\n",
       "<table border=\"1\" class=\"dataframe\">\n",
       "  <thead>\n",
       "    <tr style=\"text-align: right;\">\n",
       "      <th></th>\n",
       "      <th>Type</th>\n",
       "      <th>LifeStyle</th>\n",
       "      <th>Vacation</th>\n",
       "      <th>eCredit</th>\n",
       "      <th>Salary</th>\n",
       "      <th>Property</th>\n",
       "      <th>Label</th>\n",
       "    </tr>\n",
       "  </thead>\n",
       "  <tbody>\n",
       "    <tr>\n",
       "      <th>0</th>\n",
       "      <td>student</td>\n",
       "      <td>spend&gt;saving</td>\n",
       "      <td>6</td>\n",
       "      <td>40</td>\n",
       "      <td>13.62</td>\n",
       "      <td>3.2804</td>\n",
       "      <td>C1</td>\n",
       "    </tr>\n",
       "    <tr>\n",
       "      <th>1</th>\n",
       "      <td>student</td>\n",
       "      <td>spend&gt;saving</td>\n",
       "      <td>11</td>\n",
       "      <td>21</td>\n",
       "      <td>15.32</td>\n",
       "      <td>2.0232</td>\n",
       "      <td>C1</td>\n",
       "    </tr>\n",
       "    <tr>\n",
       "      <th>2</th>\n",
       "      <td>student</td>\n",
       "      <td>spend&gt;saving</td>\n",
       "      <td>7</td>\n",
       "      <td>64</td>\n",
       "      <td>16.55</td>\n",
       "      <td>3.1202</td>\n",
       "      <td>C1</td>\n",
       "    </tr>\n",
       "    <tr>\n",
       "      <th>3</th>\n",
       "      <td>student</td>\n",
       "      <td>spend&gt;saving</td>\n",
       "      <td>3</td>\n",
       "      <td>47</td>\n",
       "      <td>15.71</td>\n",
       "      <td>3.4022</td>\n",
       "      <td>C1</td>\n",
       "    </tr>\n",
       "    <tr>\n",
       "      <th>4</th>\n",
       "      <td>student</td>\n",
       "      <td>spend&gt;saving</td>\n",
       "      <td>15</td>\n",
       "      <td>10</td>\n",
       "      <td>16.96</td>\n",
       "      <td>2.2825</td>\n",
       "      <td>C1</td>\n",
       "    </tr>\n",
       "  </tbody>\n",
       "</table>\n",
       "</div>"
      ],
      "text/plain": [
       "      Type     LifeStyle  Vacation  eCredit  Salary  Property Label\n",
       "0  student  spend>saving         6       40   13.62    3.2804    C1\n",
       "1  student  spend>saving        11       21   15.32    2.0232    C1\n",
       "2  student  spend>saving         7       64   16.55    3.1202    C1\n",
       "3  student  spend>saving         3       47   15.71    3.4022    C1\n",
       "4  student  spend>saving        15       10   16.96    2.2825    C1"
      ]
     },
     "execution_count": 2,
     "metadata": {},
     "output_type": "execute_result"
    }
   ],
   "source": [
    "# reading the data into data frame with the name df\n",
    "df = pd.read_table('train.csv', sep=',', header=None, names=['Type', 'LifeStyle', 'Vacation', 'eCredit', 'Salary', 'Property', 'Label'])\n",
    "df.head() # to print the top 5 values"
   ]
  },
  {
   "cell_type": "code",
   "execution_count": 3,
   "metadata": {},
   "outputs": [
    {
     "data": {
      "text/html": [
       "<div>\n",
       "<style>\n",
       "    .dataframe thead tr:only-child th {\n",
       "        text-align: right;\n",
       "    }\n",
       "\n",
       "    .dataframe thead th {\n",
       "        text-align: left;\n",
       "    }\n",
       "\n",
       "    .dataframe tbody tr th {\n",
       "        vertical-align: top;\n",
       "    }\n",
       "</style>\n",
       "<table border=\"1\" class=\"dataframe\">\n",
       "  <thead>\n",
       "    <tr style=\"text-align: right;\">\n",
       "      <th></th>\n",
       "      <th>Type</th>\n",
       "      <th>LifeStyle</th>\n",
       "      <th>Vacation</th>\n",
       "      <th>eCredit</th>\n",
       "      <th>Salary</th>\n",
       "      <th>Property</th>\n",
       "      <th>Label</th>\n",
       "    </tr>\n",
       "  </thead>\n",
       "  <tbody>\n",
       "    <tr>\n",
       "      <th>0</th>\n",
       "      <td>student</td>\n",
       "      <td>spend&lt;saving</td>\n",
       "      <td>12</td>\n",
       "      <td>19</td>\n",
       "      <td>14.7900</td>\n",
       "      <td>3.7697</td>\n",
       "      <td>C1</td>\n",
       "    </tr>\n",
       "    <tr>\n",
       "      <th>1</th>\n",
       "      <td>student</td>\n",
       "      <td>spend&gt;&gt;saving</td>\n",
       "      <td>29</td>\n",
       "      <td>10</td>\n",
       "      <td>16.1900</td>\n",
       "      <td>2.4839</td>\n",
       "      <td>C1</td>\n",
       "    </tr>\n",
       "    <tr>\n",
       "      <th>2</th>\n",
       "      <td>student</td>\n",
       "      <td>spend&lt;&lt;saving</td>\n",
       "      <td>28</td>\n",
       "      <td>60</td>\n",
       "      <td>15.4600</td>\n",
       "      <td>1.1885</td>\n",
       "      <td>C1</td>\n",
       "    </tr>\n",
       "    <tr>\n",
       "      <th>3</th>\n",
       "      <td>engineer</td>\n",
       "      <td>spend&gt;saving</td>\n",
       "      <td>15</td>\n",
       "      <td>41</td>\n",
       "      <td>21.2600</td>\n",
       "      <td>1.4379</td>\n",
       "      <td>C1</td>\n",
       "    </tr>\n",
       "    <tr>\n",
       "      <th>4</th>\n",
       "      <td>librarian</td>\n",
       "      <td>spend&lt;saving</td>\n",
       "      <td>2</td>\n",
       "      <td>9</td>\n",
       "      <td>19.7207</td>\n",
       "      <td>0.6913</td>\n",
       "      <td>C1</td>\n",
       "    </tr>\n",
       "  </tbody>\n",
       "</table>\n",
       "</div>"
      ],
      "text/plain": [
       "        Type      LifeStyle  Vacation  eCredit   Salary  Property Label\n",
       "0    student   spend<saving        12       19  14.7900    3.7697    C1\n",
       "1    student  spend>>saving        29       10  16.1900    2.4839    C1\n",
       "2    student  spend<<saving        28       60  15.4600    1.1885    C1\n",
       "3   engineer   spend>saving        15       41  21.2600    1.4379    C1\n",
       "4  librarian   spend<saving         2        9  19.7207    0.6913    C1"
      ]
     },
     "execution_count": 3,
     "metadata": {},
     "output_type": "execute_result"
    }
   ],
   "source": [
    "# reading the test data into a data frame with name dft\n",
    "dft = pd.read_table('test.csv', sep=',', header=None, names=['Type', 'LifeStyle', 'Vacation', 'eCredit', 'Salary', 'Property', 'Label'])\n",
    "dft.head() # to print the top 5 values\n"
   ]
  },
  {
   "cell_type": "code",
   "execution_count": 4,
   "metadata": {
    "collapsed": true
   },
   "outputs": [],
   "source": [
    "#### Normalizing the values in the Vacation,eCredit,Salary,Property so that all the values range in between 0 to 1\n",
    "\n",
    "\n",
    "min_max=[0.0]*8 #we are storing all the columns min and max, we can use them to normalize the testing data\n",
    "\n",
    "for attribute in list(df.columns.values): # we are going to walk through every column\n",
    "    \n",
    "    # we are checking whether the column should be normlized or not\n",
    "    if attribute == 'Vacation' or attribute == 'eCredit' or attribute == 'Salary' or attribute == 'Property':\n",
    "        \n",
    "        maxValue = max(df[attribute])\n",
    "        minValue = min(df[attribute])\n",
    "        \n",
    "        #storing the values in the array \n",
    "        if attribute == 'Vacation':\n",
    "            min_max[0]=maxValue\n",
    "            min_max[1]=minValue\n",
    "        elif attribute == 'eCredit':\n",
    "            min_max[2]=maxValue\n",
    "            min_max[3]=minValue\n",
    "        elif attribute == 'Salary':\n",
    "            min_max[4]=maxValue\n",
    "            min_max[5]=minValue\n",
    "        elif attribute == 'Property':\n",
    "            min_max[6]=maxValue\n",
    "            min_max[7]=minValue\n",
    "        \n",
    "        #normalizing the values in the column\n",
    "        norm = []\n",
    "        for i in df[attribute]:\n",
    "            normalisedValue = (i - minValue + 0.0)/(maxValue - minValue + 0.0)\n",
    "            norm.append(normalisedValue)\n",
    "        df[attribute] = norm\n",
    "\n"
   ]
  },
  {
   "cell_type": "code",
   "execution_count": 5,
   "metadata": {
    "collapsed": true
   },
   "outputs": [],
   "source": [
    "#### normalizing the testing data also with the help of values obtained in the train data set.\n",
    "\n",
    "minValue=0\n",
    "maxValue=0\n",
    "\n",
    "for attribute in list(dft.columns.values):\n",
    "    \n",
    "    #normalizing the respective columns\n",
    "    if attribute == 'Vacation' or attribute == 'eCredit' or attribute == 'Salary' or attribute == 'Property':\n",
    "        norm = []\n",
    "        \n",
    "        for i in dft[attribute]:\n",
    "            \n",
    "            #depending on the attribute we are assigning the min and max values\n",
    "            if attribute == 'Vacation':\n",
    "                maxValue=min_max[0]\n",
    "                minValue=min_max[1]\n",
    "            elif attribute == 'eCredit':\n",
    "                maxValue=min_max[2]\n",
    "                minValue=min_max[3]\n",
    "            elif attribute == 'Salary':\n",
    "                maxValue=min_max[4]\n",
    "                minValue=min_max[5]\n",
    "            elif attribute == 'Property':\n",
    "                maxValue=min_max[6]\n",
    "                minValue=min_max[7]\n",
    "            \n",
    "            #normalised value calculation\n",
    "            normalisedValue = (i - minValue + 0.0)/(maxValue - minValue + 0.0)\n",
    "            norm.append(normalisedValue)\n",
    "        dft[attribute] = norm        \n",
    "        "
   ]
  },
  {
   "cell_type": "code",
   "execution_count": 6,
   "metadata": {
    "collapsed": true
   },
   "outputs": [],
   "source": [
    "#converting both the data frame into list of lists\n",
    "dataframe= df.values.tolist()\n",
    "#print dataframe\n",
    "dataframet= dft.values.tolist()\n"
   ]
  },
  {
   "cell_type": "code",
   "execution_count": 7,
   "metadata": {
    "collapsed": true
   },
   "outputs": [],
   "source": [
    "#### developing our own k nearest algorithm with respective to our requirments\n",
    "\n",
    "def k_nearest(data_dic,predict,k=5):\n",
    "    distances =[]\n",
    "    for group in data_dic:\n",
    "        for features in  data_dic[group]:\n",
    "            euclidean_distance=0\n",
    "            if(predict[0]!=features[0]):\n",
    "                euclidean_distance+=1\n",
    "            if(predict[1]!=features[1]):\n",
    "                euclidean_distance+=1\n",
    "            euclidean_distance += ((predict[2]-features[2])**2 + (predict[3]-features[3])**2 +(predict[4]-features[4])**2 + (predict[5]-features[5])**2)\n",
    "            if(sqrt(euclidean_distance)!=0):\n",
    "                euclidean_distance=1/sqrt(euclidean_distance) #calculating the inverse euclidean\n",
    "            else:\n",
    "                euclidean_distance=sqrt(euclidean_distance)\n",
    "                \n",
    "            distances.append([euclidean_distance,group])\n",
    "    distances=sorted(distances) #sorting the distances\n",
    "    \n",
    "    #using the dicitionary to keep track of sum of distances\n",
    "    dictionary={'C1':0.0,'C2':0.0,'C3':0.0,'C4':0.0,'C5':0.0}\n",
    "    \n",
    "    #we have to take the largest distances because we have used inverse eucildean\n",
    "    for i in distances[len(distances)-k:len(distances)]:\n",
    "        dictionary[i[1]]=dictionary[i[1]]+i[0]\n",
    "    sorted_dictionary = sorted(dictionary.items(), key=operator.itemgetter(1))\n",
    "    return sorted_dictionary[4][0]\n",
    "    \n",
    "    \n",
    "    \n",
    "    \n",
    "    #****PLEASE DONT CONSIDER THE CODE BELOW*****\n",
    "#     votes = [i[1] for i in sorted(distances) [:k]]\n",
    "#     #print distances\n",
    "#     print votes\n",
    "#     #print (Counter(votes).most_common(1))\n",
    "#     vote_result = Counter(votes).most_common(1)[0][0]\n",
    "#     #print vote_result\n",
    "    \n",
    "            \n",
    "#     return vote_result\n"
   ]
  },
  {
   "cell_type": "code",
   "execution_count": 8,
   "metadata": {
    "collapsed": true
   },
   "outputs": [],
   "source": [
    "#### splitting the data with respective to ratio and segregating the train an test data into respective clustres\n",
    "#creating a dicitionary to store instances without labels\n",
    "train_set={'C1':[],'C2':[],'C3':[],'C4':[],'C5':[]} # keys are the cluster names\n",
    "train_data= dataframe[:int(1*len(dataframe))]\n",
    "\n",
    "#removing labels for testing data also\n",
    "final_test_set={'C1':[],'C2':[],'C3':[],'C4':[],'C5':[]}\n",
    "final_test_data=dataframet[:int(1*len(dataframet))]\n",
    "\n",
    "\n",
    "#****PLEASE DONT CONSIDER THE CODE BELOW*****\n",
    "#test_size=0.2\n",
    "#test_set={'C1':[],'C2':[],'C3':[],'C4':[],'C5':[]}\n",
    "#test_data= dataframe[-int(test_size*len(dataframe)):]\n"
   ]
  },
  {
   "cell_type": "code",
   "execution_count": 9,
   "metadata": {
    "collapsed": true
   },
   "outputs": [],
   "source": [
    "#### Removing the cluster names from the instances and adding them to lists.\n",
    "#assinging instances to particular key in the dictionary \n",
    "for i in train_data:\n",
    "    train_set[i[-1]].append(i[:-1]) # removing the label and appending to specific list of the key\n",
    "    \n",
    "for i in final_test_data:\n",
    "    final_test_set[i[-1]].append(i[:-1])\n",
    "\n"
   ]
  },
  {
   "cell_type": "code",
   "execution_count": 10,
   "metadata": {
    "scrolled": true
   },
   "outputs": [
    {
     "name": "stdout",
     "output_type": "stream",
     "text": [
      "('Accuracy:', 0.3333333333333333)\n"
     ]
    }
   ],
   "source": [
    "#sending our testing data to the model\n",
    "\n",
    "#correct and total variables are used to calculate accuracy\n",
    "correct =0.0\n",
    "total =0.0\n",
    "\n",
    "for group in final_test_set:\n",
    "    for data in final_test_set[group]:\n",
    "        vote= k_nearest(train_set,data,k=5)\n",
    "        if group==vote: #if predicted cluster is correct \n",
    "            correct+=1\n",
    "        total +=1\n",
    "\n",
    "print ('Accuracy:', (correct)/total)"
   ]
  },
  {
   "cell_type": "code",
   "execution_count": 11,
   "metadata": {
    "collapsed": true
   },
   "outputs": [],
   "source": [
    "\"\"\" In order to use defualt method in sklearn we have to make sure that our dont contain Strings.\n",
    "    So we have to convert all the required columns.\"\"\"\n",
    "\n",
    "\n",
    "\n",
    "\n",
    "#converting both the testing and the training data into vlaues.\n",
    "\n",
    "df['Type'] = df.Type.map({'student':1,'engineer':2,'librarian':3,'professor':4,'doctor':5 }) \n",
    "df['LifeStyle'] = df.LifeStyle.map({'spend<<saving':1, 'spend<saving':2, 'spend>saving':3, 'spend>>saving':4}) \n",
    "df['Label'] = df.Label.map({'C1':1, 'C2':2 ,'C3':3 ,'C4':4 ,'C5':5})\n",
    "\n",
    "\n",
    "dft['Type'] = dft.Type.map({'student':1,'engineer':2,'librarian':3,'professor':4,'doctor':5 }) \n",
    "dft['LifeStyle'] = dft.LifeStyle.map({'spend<<saving':1, 'spend<saving':2, 'spend>saving':3, 'spend>>saving':4}) \n",
    "dft['Label'] = dft.Label.map({'C1':1, 'C2':2 ,'C3':3 ,'C4':4 ,'C5':5})\n",
    "\n",
    "\n"
   ]
  },
  {
   "cell_type": "code",
   "execution_count": 12,
   "metadata": {
    "collapsed": true
   },
   "outputs": [],
   "source": [
    "\n",
    "#using the default knn\n",
    "from sklearn.neighbors import KNeighborsClassifier\n",
    "\n",
    "#defining our own distance method of knn\n",
    "def mymethod(x,y):\n",
    "    edist=0.0\n",
    "    if(x[0]!=y[0]):\n",
    "        edist+=1\n",
    "    if(x[1]!=y[1]):\n",
    "        edist+=1\n",
    "    edist += ((x[2]-y[2])**2 + (x[3]-y[3])**2 +(x[4]-y[4])**2 + (x[5]-y[5])**2)\n",
    "    return sqrt(edist) # we are just going with euclidean distance\n",
    "\n",
    "\n",
    "\n",
    "y_train=df['Label']\n",
    "\n",
    "#removing the label from the data frame\n",
    "x_train=df.drop('Label',axis=1)\n",
    "\n",
    "#passing the arguments to knn \n",
    "neigh = KNeighborsClassifier(n_neighbors = 5, weights='uniform', algorithm='auto', metric=mymethod)\n",
    "\n",
    "y_test=dft['Label']\n",
    "\n",
    "#removing the label from the test data frame.\n",
    "x_test=dft.drop('Label',axis=1)\n",
    "\n",
    "    "
   ]
  },
  {
   "cell_type": "code",
   "execution_count": 13,
   "metadata": {},
   "outputs": [
    {
     "data": {
      "text/plain": [
       "KNeighborsClassifier(algorithm='auto', leaf_size=30,\n",
       "           metric=<function mymethod at 0x0000000009D8A978>,\n",
       "           metric_params=None, n_jobs=1, n_neighbors=5, p=2,\n",
       "           weights='uniform')"
      ]
     },
     "execution_count": 13,
     "metadata": {},
     "output_type": "execute_result"
    }
   ],
   "source": [
    "\n",
    "# training the model by sending the x_train ,y_train\n",
    "neigh.fit(x_train, y_train)"
   ]
  },
  {
   "cell_type": "code",
   "execution_count": 14,
   "metadata": {},
   "outputs": [
    {
     "name": "stdout",
     "output_type": "stream",
     "text": [
      "Accuracy: 0.285714285714\n"
     ]
    }
   ],
   "source": [
    "\n",
    "# predicitng the clusters for our testing data\n",
    "y_pred = neigh.predict(x_test)\n",
    "#print y_pred\n",
    "count=0.0\n",
    "for i in y_pred:\n",
    "    if(i==1):\n",
    "        count+=1\n",
    "print 'Accuracy:', (count)/len(y_pred)\n",
    "\n"
   ]
  },
  {
   "cell_type": "code",
   "execution_count": null,
   "metadata": {
    "collapsed": true
   },
   "outputs": [],
   "source": []
  }
 ],
 "metadata": {
  "kernelspec": {
   "display_name": "Python 2",
   "language": "python",
   "name": "python2"
  },
  "language_info": {
   "codemirror_mode": {
    "name": "ipython",
    "version": 2
   },
   "file_extension": ".py",
   "mimetype": "text/x-python",
   "name": "python",
   "nbconvert_exporter": "python",
   "pygments_lexer": "ipython2",
   "version": "2.7.13"
  }
 },
 "nbformat": 4,
 "nbformat_minor": 2
}
